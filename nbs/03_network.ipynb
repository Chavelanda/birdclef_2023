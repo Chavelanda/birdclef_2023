{
 "cells": [
  {
   "cell_type": "markdown",
   "metadata": {},
   "source": [
    "# network\n",
    "\n",
    "> This module contains the networks that are used in this project and a function to retrieve them for training."
   ]
  },
  {
   "cell_type": "code",
   "execution_count": null,
   "metadata": {},
   "outputs": [],
   "source": [
    "#| default_exp network"
   ]
  },
  {
   "cell_type": "code",
   "execution_count": null,
   "metadata": {},
   "outputs": [],
   "source": [
    "#| hide\n",
    "from nbdev.showdoc import *\n",
    "from fastcore.test import *\n",
    "from fastcore.utils import *"
   ]
  },
  {
   "cell_type": "code",
   "execution_count": null,
   "metadata": {},
   "outputs": [],
   "source": [
    "#| export\n",
    "from typing import Union, BinaryIO, IO\n",
    "from os import PathLike\n",
    "\n",
    "import torch\n",
    "import torchvision\n",
    "from torch.nn import Module\n",
    "\n",
    "from birdclef.dataset import get_dataloader\n"
   ]
  },
  {
   "cell_type": "markdown",
   "metadata": {},
   "source": [
    "## The models"
   ]
  },
  {
   "cell_type": "code",
   "execution_count": null,
   "metadata": {},
   "outputs": [],
   "source": [
    "#| export\n",
    "class EfficientNetV2(torch.nn.Module):\n",
    "    def __init__(self, num_classes=264, size='s'):\n",
    "        super().__init__()\n",
    "\n",
    "        if size=='s':\n",
    "            self.efficientnet_v2 = torchvision.models.efficientnet_v2_s(weights=None, progress=True, num_classes=num_classes)\n",
    "        elif size=='m':\n",
    "            self.efficientnet_v2 = torchvision.models.efficientnet_v2_m(weights=None, progress=True, num_classes=num_classes)\n",
    "        else:\n",
    "            self.efficientnet_v2 = torchvision.models.efficientnet_v2_l(weights=None, progress=True, num_classes=num_classes)\n",
    "\n",
    "        self.init_conv = torch.nn.Conv2d(1, 3, (3,3), padding=\"same\")\n",
    "        #self.sigmoid = torch.nn.functional.sigmoid\n",
    "\n",
    "    def forward(self, x):\n",
    "        x = self.init_conv(x)\n",
    "        x = self.efficientnet_v2(x)\n",
    "\n",
    "        return x"
   ]
  },
  {
   "cell_type": "markdown",
   "metadata": {},
   "source": [
    "Let's check that the network works"
   ]
  },
  {
   "cell_type": "code",
   "execution_count": null,
   "metadata": {},
   "outputs": [
    {
     "data": {
      "text/plain": [
       "tensor([[-1.9340, -3.4938,  1.2743]], grad_fn=<AddmmBackward0>)"
      ]
     },
     "execution_count": null,
     "metadata": {},
     "output_type": "execute_result"
    }
   ],
   "source": [
    "#| eval:false\n",
    "dl = get_dataloader('train_simple')\n",
    "model = EfficientNetV2(num_classes=3)\n",
    "batch = next(iter(dl))\n",
    "model(batch[0])"
   ]
  },
  {
   "cell_type": "markdown",
   "metadata": {},
   "source": [
    "## Handling models"
   ]
  },
  {
   "cell_type": "markdown",
   "metadata": {},
   "source": [
    "As for the datasets and dataloaders, also in this case we need a way to retrieve the created models."
   ]
  },
  {
   "cell_type": "code",
   "execution_count": null,
   "metadata": {},
   "outputs": [],
   "source": [
    "#| export\n",
    "model_dict = {\n",
    "        'efficient_net_v2_s': (EfficientNetV2, {}),\n",
    "        'efficient_net_v2_m': (EfficientNetV2, {'size':'m'}),\n",
    "        'efficient_net_v2_l': (EfficientNetV2, {'size':'l'}),\n",
    "        }\n",
    "\n",
    "def get_model(model_key:str, # A key of the model dictionary\n",
    "              weights_path:Union[str, PathLike, BinaryIO, IO[bytes]] = None,   # A file-like object to the model weights\n",
    "              num_classes:int = 264,  # Number of classes to predict\n",
    "              )->Module:      # A pytorch model\n",
    "    \"A getter method to retrieve the wanted (possibly pretrained) model\"\n",
    "    assert model_key in model_dict, f'{model_key} is not an existing network, choose one from {model_dict.keys()}.'\n",
    "    \n",
    "    net_class, kwargs = model_dict[model_key]\n",
    "    model = net_class(num_classes=num_classes, **kwargs)\n",
    "\n",
    "    if weights_path is not None:\n",
    "        model.load_state_dict(torch.load(weights_path))\n",
    "\n",
    "    return model"
   ]
  },
  {
   "cell_type": "code",
   "execution_count": null,
   "metadata": {},
   "outputs": [
    {
     "name": "stdout",
     "output_type": "stream",
     "text": [
      "The existing keys are:\n",
      "simple_efficient_net_v2_s\n",
      "efficient_net_v2_s\n"
     ]
    }
   ],
   "source": [
    "#|echo: false\n",
    "print(\"The existing keys are:\\n\" + \"\\n\".join([k for k in model_dict.keys()]))\n",
    "\n",
    "test_eq(len(model_dict.keys()), 3)"
   ]
  },
  {
   "cell_type": "markdown",
   "metadata": {},
   "source": [
    "Let's see how it works getting a model"
   ]
  },
  {
   "cell_type": "code",
   "execution_count": null,
   "metadata": {},
   "outputs": [
    {
     "data": {
      "text/plain": [
       "tensor([[-0.4579,  8.3441,  1.5603]], grad_fn=<AddmmBackward0>)"
      ]
     },
     "execution_count": null,
     "metadata": {},
     "output_type": "execute_result"
    }
   ],
   "source": [
    "#| eval:false\n",
    "model = get_model('efficient_net_v2_s', num_classes=3)\n",
    "model(batch[0])"
   ]
  },
  {
   "cell_type": "code",
   "execution_count": null,
   "metadata": {},
   "outputs": [],
   "source": [
    "#| hide\n",
    "import nbdev; nbdev.nbdev_export()"
   ]
  }
 ],
 "metadata": {
  "kernelspec": {
   "display_name": "python3",
   "language": "python",
   "name": "python3"
  }
 },
 "nbformat": 4,
 "nbformat_minor": 4
}
