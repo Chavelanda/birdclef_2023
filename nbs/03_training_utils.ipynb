{
 "cells": [
  {
   "cell_type": "markdown",
   "metadata": {},
   "source": [
    "# training_utils\n",
    "\n",
    "> Utility functions for training. These include loss functions, optimizers and function to evaluate metrics."
   ]
  },
  {
   "cell_type": "code",
   "execution_count": null,
   "metadata": {},
   "outputs": [],
   "source": [
    "#| default_exp training_utils"
   ]
  },
  {
   "cell_type": "code",
   "execution_count": null,
   "metadata": {},
   "outputs": [],
   "source": [
    "#| hide\n",
    "from nbdev.showdoc import *\n",
    "from fastcore.test import *\n",
    "from fastcore.utils import *"
   ]
  },
  {
   "cell_type": "code",
   "execution_count": null,
   "metadata": {},
   "outputs": [],
   "source": [
    "#| export\n",
    "import torch"
   ]
  },
  {
   "cell_type": "code",
   "execution_count": null,
   "metadata": {},
   "outputs": [],
   "source": [
    "#| export\n",
    "losses_dict = {}\n",
    "\n",
    "def get_loss_func(loss:str # Key into the losses dictionary\n",
    "                    ):\n",
    "    \"Getter method to retrieve a loss function\"\n",
    "\n",
    "    assert loss in losses_dict.keys(), f'{loss} is not an existing loss function, choose one from {losses_dict.keys()}.'\n",
    "    \n",
    "    return losses_dict[loss]"
   ]
  },
  {
   "cell_type": "code",
   "execution_count": null,
   "metadata": {},
   "outputs": [],
   "source": [
    "#| export\n",
    "optimizers_dict = {}\n",
    "\n",
    "def get_optimizer(optim:str, # Key into the optimizer dictionary\n",
    "                  kwargs:dict # Optimizer parameters\n",
    "                    ):\n",
    "    \"Getter method to retrieve an optimizer\"\n",
    "\n",
    "    assert optim in optimizers_dict.keys(), f'{optim} is not an existing optimizer, choose one from {optimizers_dict.keys()}.'\n",
    "    \n",
    "    return optimizers_dict[optim](**kwargs)"
   ]
  },
  {
   "cell_type": "code",
   "execution_count": null,
   "metadata": {},
   "outputs": [],
   "source": [
    "#|export\n",
    "def compute_metrics(name:str,               # Name of the training stage (train, val, test)\n",
    "                    outputs:torch.Tensor,   # The output of the model       \n",
    "                    labels:torch.Tensor,    # The ground truth\n",
    "                    loss:float,             # The loss of the model\n",
    "                    example_ct:int,         # Number of examples processed by the model\n",
    "                    step_ct:int,            # Number of backpropagation steps the model has done\n",
    "                    epoch:float             # The training epoch\n",
    "                    )->dict:                # Dictionary of the metrics\n",
    "    \"Compute new metrics from outputs and labels and format existing ones.\"\n",
    "\n",
    "    \n",
    "    return {f'{name}/loss': loss,\n",
    "            f'{name}/example_ct': example_ct,\n",
    "            f'{name}/step_ct': step_ct,\n",
    "            f'{name}/epoch': epoch\n",
    "            }"
   ]
  },
  {
   "cell_type": "code",
   "execution_count": null,
   "metadata": {},
   "outputs": [],
   "source": [
    "#| hide\n",
    "import nbdev; nbdev.nbdev_export()"
   ]
  }
 ],
 "metadata": {
  "kernelspec": {
   "display_name": "python3",
   "language": "python",
   "name": "python3"
  }
 },
 "nbformat": 4,
 "nbformat_minor": 4
}
