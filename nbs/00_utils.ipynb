{
 "cells": [
  {
   "cell_type": "markdown",
   "metadata": {},
   "source": [
    "# utils\n",
    "\n",
    "> This module contains utility functions that are used across the project"
   ]
  },
  {
   "cell_type": "code",
   "execution_count": null,
   "metadata": {},
   "outputs": [],
   "source": [
    "#| default_exp utils"
   ]
  },
  {
   "cell_type": "code",
   "execution_count": null,
   "metadata": {},
   "outputs": [],
   "source": [
    "#| hide\n",
    "from nbdev.showdoc import *"
   ]
  },
  {
   "cell_type": "code",
   "execution_count": null,
   "metadata": {},
   "outputs": [],
   "source": [
    "#| export\n",
    "import matplotlib.pyplot as plt\n",
    "import librosa\n",
    "from pathlib import Path\n",
    "\n",
    "import torch\n",
    "import torchaudio"
   ]
  },
  {
   "cell_type": "code",
   "execution_count": null,
   "metadata": {},
   "outputs": [],
   "source": [
    "#| export\n",
    "DATA_DIR = '../data/'\n",
    "AUDIO_DATA_DIR = DATA_DIR + 'audio_data/'"
   ]
  },
  {
   "cell_type": "code",
   "execution_count": null,
   "metadata": {},
   "outputs": [],
   "source": [
    "#| export\n",
    "def plot_specgram(waveform:torch.Tensor, # The tensor containing the waveform\n",
    "                  sample_rate:int,  # The sample rate of the audio file \n",
    "                  title:str=\"Spectrogram\", # The title of the plot\n",
    "                  axes=None):\n",
    "    \"A function to plot the specgram from a waveform\"\n",
    "    waveform = waveform.numpy()\n",
    "\n",
    "    num_channels, num_frames = waveform.shape\n",
    "\n",
    "    plot = False\n",
    "    if axes is None:\n",
    "      plot = True\n",
    "      figure, axes = plt.subplots(num_channels, 1)\n",
    "\n",
    "    if num_channels == 1:\n",
    "        axes = [axes]\n",
    "    for c in range(num_channels):\n",
    "        axes[c].specgram(waveform[c], Fs=sample_rate)\n",
    "        axes[c].title.set_text(title + f' Channel {c+1}')\n",
    "        if num_channels > 1:\n",
    "            axes[c].set_ylabel(f\"Channel {c+1}\")\n",
    "\n",
    "    if plot:\n",
    "      plt.show(block=False)"
   ]
  },
  {
   "cell_type": "code",
   "execution_count": null,
   "metadata": {},
   "outputs": [],
   "source": [
    "#| export\n",
    "def plot_waveform(waveform:torch.Tensor, # The tensor containing the waveform\n",
    "                  sample_rate:int, # The sample rate of the audio file\n",
    "                  title:str='Waveform', # The title of the plot\n",
    "                  axes=None):\n",
    "    \"A function to plot the waveform of an audio\"\n",
    "    waveform = waveform.numpy()\n",
    "\n",
    "    num_channels, num_frames = waveform.shape\n",
    "    time_axis = torch.arange(0, num_frames) / sample_rate\n",
    "\n",
    "    plot = False\n",
    "    if axes is None:\n",
    "        plot = True\n",
    "        figure, axes = plt.subplots(num_channels, 1)\n",
    "\n",
    "    if num_channels == 1:\n",
    "        axes = [axes]\n",
    "    for c in range(num_channels):\n",
    "        axes[c].plot(time_axis, waveform[c], linewidth=1)\n",
    "        axes[c].grid(True)\n",
    "        axes[c].title.set_text(title + f' Channel {c+1}')\n",
    "        if num_channels > 1:\n",
    "            axes[c].set_ylabel(f\"Channel {c+1}\")\n",
    "\n",
    "    if plot:\n",
    "        plt.show(block=False)"
   ]
  },
  {
   "cell_type": "code",
   "execution_count": null,
   "metadata": {},
   "outputs": [],
   "source": [
    "#| export\n",
    "def plot_audio(waveform:torch.Tensor, # The tensor containing the waveform\n",
    "                sample_rate:int): # The sample rate of the audio file\n",
    "    \"A function that plots together the waveform and the specgram of an audio.\"\n",
    "    num_channels, num_frames = waveform.numpy().shape\n",
    "\n",
    "    figure, axes = plt.subplots(num_channels, 2,  figsize=(16, num_channels * 7))\n",
    "\n",
    "    if num_channels == 1:\n",
    "        axes_w = axes[0]\n",
    "        axes_s = axes[1]\n",
    "    else:\n",
    "        axes_w = axes[:, 0]\n",
    "        axes_s = axes[:, 1]\n",
    "\n",
    "    plot_waveform(waveform, sample_rate, axes=axes_w)\n",
    "    plot_specgram(waveform, sample_rate, axes=axes_s)\n",
    "\n",
    "    plt.show(block=False)"
   ]
  },
  {
   "cell_type": "code",
   "execution_count": null,
   "metadata": {},
   "outputs": [],
   "source": [
    "#| export\n",
    "def mel_to_wave(mel_specgram:torch.Tensor, # The tensor of the mel specgram\n",
    "                sample_rate:int = 32000,  # The sample rate of the audio\n",
    "                n_fft:int=2048\n",
    "                )->torch.Tensor: # The tensor of the waveform\n",
    "    \"Function used to recover a waveform from a mel spectrogram\"\n",
    "    n_stft = int((n_fft//2) + 1)\n",
    "    mel_specgram = mel_specgram.cpu()\n",
    "    mel_specgram = torch.pow(10, mel_specgram/10)\n",
    "    invers_transform = torchaudio.transforms.InverseMelScale(sample_rate=sample_rate, n_stft=n_stft)\n",
    "    grifflim_transform = torchaudio.transforms.GriffinLim(n_fft=n_fft)\n",
    "\n",
    "    inverse_waveform = invers_transform(mel_specgram)\n",
    "    pseudo_waveform = grifflim_transform(inverse_waveform)\n",
    "\n",
    "    return pseudo_waveform"
   ]
  },
  {
   "cell_type": "code",
   "execution_count": null,
   "metadata": {},
   "outputs": [],
   "source": [
    "#| export\n",
    "def plot_spectrogram(specgram, title=None, ylabel=\"freq_bin\", ax=None, db=False):\n",
    "    if ax is None:\n",
    "        _, ax = plt.subplots(1, 1)\n",
    "    if title is not None:\n",
    "        ax.set_title(title)\n",
    "    ax.set_ylabel(ylabel)\n",
    "    if not db:\n",
    "        specgram = librosa.power_to_db(specgram)\n",
    "    ax.imshow(specgram, origin=\"lower\", aspect=\"auto\", interpolation=\"nearest\")\n",
    "    plt.show()\n",
    "\n",
    "\n",
    "def plot_fbank(fbank, title=None):\n",
    "    fig, axs = plt.subplots(1, 1)\n",
    "    axs.set_title(title or \"Filter bank\")\n",
    "    axs.imshow(fbank, aspect=\"auto\")\n",
    "    axs.set_ylabel(\"frequency bin\")\n",
    "    axs.set_xlabel(\"mel bin\")"
   ]
  },
  {
   "cell_type": "code",
   "execution_count": null,
   "metadata": {},
   "outputs": [],
   "source": [
    "#| hide\n",
    "import nbdev; nbdev.nbdev_export()"
   ]
  }
 ],
 "metadata": {
  "kernelspec": {
   "display_name": "python3",
   "language": "python",
   "name": "python3"
  }
 },
 "nbformat": 4,
 "nbformat_minor": 2
}
