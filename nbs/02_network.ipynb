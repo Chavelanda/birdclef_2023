{
 "cells": [
  {
   "cell_type": "markdown",
   "metadata": {},
   "source": [
    "# network\n",
    "\n",
    "> This module contains the networks that are used in this project and a network manager to handle them for the training."
   ]
  },
  {
   "cell_type": "code",
   "execution_count": null,
   "metadata": {},
   "outputs": [],
   "source": [
    "#| default_exp network"
   ]
  },
  {
   "cell_type": "code",
   "execution_count": null,
   "metadata": {},
   "outputs": [],
   "source": [
    "#| hide\n",
    "from nbdev.showdoc import *\n",
    "from fastcore.test import *\n",
    "from fastcore.utils import *"
   ]
  },
  {
   "cell_type": "code",
   "execution_count": null,
   "metadata": {},
   "outputs": [],
   "source": [
    "#| export\n",
    "from typing import Union, BinaryIO, IO\n",
    "from os import PathLike\n",
    "\n",
    "import torch\n",
    "from torch.nn import Module\n"
   ]
  },
  {
   "cell_type": "markdown",
   "metadata": {},
   "source": [
    "## The network manager class"
   ]
  },
  {
   "cell_type": "markdown",
   "metadata": {},
   "source": [
    "This is a manager class used to handle the different created networks in the experiments."
   ]
  },
  {
   "cell_type": "code",
   "execution_count": null,
   "metadata": {},
   "outputs": [],
   "source": [
    "#| export\n",
    "class NetworkManager:\n",
    "    \"Manage your networks through a dictionary containing pytorch module classes and kwargs\"\n",
    "\n",
    "    def __init__(self) -> None:\n",
    "        self.network_dict = {\n",
    "            \n",
    "        }"
   ]
  },
  {
   "cell_type": "code",
   "execution_count": null,
   "metadata": {},
   "outputs": [
    {
     "name": "stdout",
     "output_type": "stream",
     "text": [
      "The existing keys are:\n",
      "\n"
     ]
    }
   ],
   "source": [
    "#|echo: false\n",
    "manager = NetworkManager()\n",
    "print(\"The existing keys are:\\n\" + \"\\n\".join([k for k in manager.network_dict.keys()]))\n",
    "\n",
    "test_eq(manager.network_dict.keys(), [])"
   ]
  },
  {
   "cell_type": "code",
   "execution_count": null,
   "metadata": {},
   "outputs": [],
   "source": [
    "#| export\n",
    "@patch\n",
    "def get_model(self:NetworkManager,\n",
    "                network:str, # A key of the network dictionary\n",
    "                weights_path:Union[str, PathLike, BinaryIO, IO[bytes]] = None): # A a file-like object to the network weights\n",
    "    \"A getter method to retrieve the wanted network\"\n",
    "    assert network in self.network_dict.keys(), f'{network} is not an existing network, choose one from {self.network_dict.keys()}.'\n",
    "    \n",
    "    net_class, kwargs = self.network_dict[network]\n",
    "    model = net_class(**kwargs)\n",
    "\n",
    "    if weights_path is not None:\n",
    "        model.load_state_dict(torch.load(weights_path))\n",
    "\n",
    "    return model"
   ]
  },
  {
   "cell_type": "code",
   "execution_count": null,
   "metadata": {},
   "outputs": [],
   "source": [
    "#| hide\n",
    "import nbdev; nbdev.nbdev_export()"
   ]
  }
 ],
 "metadata": {
  "kernelspec": {
   "display_name": "python3",
   "language": "python",
   "name": "python3"
  }
 },
 "nbformat": 4,
 "nbformat_minor": 2
}
