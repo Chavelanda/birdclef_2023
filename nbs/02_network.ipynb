{
 "cells": [
  {
   "cell_type": "markdown",
   "metadata": {},
   "source": [
    "# network\n",
    "\n",
    "> This module contains the networks that are used in this project and a function to retrieve them for training."
   ]
  },
  {
   "cell_type": "code",
   "execution_count": null,
   "metadata": {},
   "outputs": [],
   "source": [
    "#| default_exp network"
   ]
  },
  {
   "cell_type": "code",
   "execution_count": null,
   "metadata": {},
   "outputs": [],
   "source": [
    "#| hide\n",
    "from nbdev.showdoc import *\n",
    "from fastcore.test import *\n",
    "from fastcore.utils import *"
   ]
  },
  {
   "cell_type": "code",
   "execution_count": null,
   "metadata": {},
   "outputs": [],
   "source": [
    "#| export\n",
    "from typing import Union, BinaryIO, IO\n",
    "from os import PathLike\n",
    "\n",
    "import torch\n",
    "from torch.nn import Module\n"
   ]
  },
  {
   "cell_type": "markdown",
   "metadata": {},
   "source": [
    "## Handling models"
   ]
  },
  {
   "cell_type": "markdown",
   "metadata": {},
   "source": [
    "As for the datasets and dataloaders, also in this case we need a way to retrieve the created models."
   ]
  },
  {
   "cell_type": "code",
   "execution_count": null,
   "metadata": {},
   "outputs": [],
   "source": [
    "#| export\n",
    "model_dict = {\n",
    "            \n",
    "        }\n",
    "\n",
    "def get_model(model_key:str, # A key of the model dictionary\n",
    "              weights_path:Union[str, PathLike, BinaryIO, IO[bytes]] = None   # A file-like object to the model weights\n",
    "              )->Module:      # A pytorch model\n",
    "    \"A getter method to retrieve the wanted (possibly pretrained) model\"\n",
    "    assert model_key in model_dict, f'{model_key} is not an existing network, choose one from {model_dict.keys()}.'\n",
    "    \n",
    "    net_class, kwargs = model_dict[model_key]\n",
    "    model = net_class(**kwargs)\n",
    "\n",
    "    if weights_path is not None:\n",
    "        model.load_state_dict(torch.load(weights_path))\n",
    "\n",
    "    return model"
   ]
  },
  {
   "cell_type": "code",
   "execution_count": null,
   "metadata": {},
   "outputs": [
    {
     "name": "stdout",
     "output_type": "stream",
     "text": [
      "The existing keys are:\n",
      "\n"
     ]
    }
   ],
   "source": [
    "#|echo: false\n",
    "print(\"The existing keys are:\\n\" + \"\\n\".join([k for k in model_dict.keys()]))\n",
    "\n",
    "test_eq(model_dict.keys(), [])"
   ]
  },
  {
   "cell_type": "code",
   "execution_count": null,
   "metadata": {},
   "outputs": [],
   "source": [
    "#| hide\n",
    "import nbdev; nbdev.nbdev_export()"
   ]
  }
 ],
 "metadata": {
  "kernelspec": {
   "display_name": "python3",
   "language": "python",
   "name": "python3"
  }
 },
 "nbformat": 4,
 "nbformat_minor": 4
}
