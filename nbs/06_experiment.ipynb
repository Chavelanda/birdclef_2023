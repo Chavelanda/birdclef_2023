{
 "cells": [
  {
   "cell_type": "markdown",
   "metadata": {},
   "source": [
    "# experiment\n",
    "\n",
    "> Notebook where the training experiments take place"
   ]
  },
  {
   "cell_type": "code",
   "execution_count": null,
   "metadata": {},
   "outputs": [],
   "source": [
    "#| default_exp experiment"
   ]
  },
  {
   "cell_type": "code",
   "execution_count": null,
   "metadata": {},
   "outputs": [],
   "source": [
    "#| hide\n",
    "from nbdev.showdoc import *\n",
    "from fastcore.test import *\n",
    "from fastcore.utils import *"
   ]
  },
  {
   "cell_type": "code",
   "execution_count": null,
   "metadata": {},
   "outputs": [
    {
     "name": "stdout",
     "output_type": "stream",
     "text": [
      "NOT in Colab\n"
     ]
    }
   ],
   "source": [
    "#| hide\n",
    "import os\n",
    "\n",
    "if os.getenv(\"COLAB_RELEASE_TAG\"):\n",
    "   print(\"Running in Colab\")       \n",
    "   from google.colab import drive\n",
    "   drive.mount('/content/drive')\n",
    "   %cd /content/drive/MyDrive/GitHub/dm-4-cat\n",
    "   %pip install wandb\n",
    "else:\n",
    "   print(\"NOT in Colab\")"
   ]
  },
  {
   "cell_type": "code",
   "execution_count": null,
   "metadata": {},
   "outputs": [],
   "source": [
    "#| export\n",
    "import wandb\n",
    "\n",
    "from birdclef.trainer import train"
   ]
  },
  {
   "cell_type": "markdown",
   "metadata": {},
   "source": [
    "These are the variables that must be set to start an experiment:\n",
    "\n",
    "1. **project**: The name of the wandb project where the training, evaluation and test results will be logged and stored.\n",
    "\n",
    "2. **entity**: The wandb entity associated with the project.\n",
    "\n",
    "3. **sweep_name**: The name given to the sweep configuration, which defines the hyperparameter search setup for an experiment. It's used to organize and categorize different hyperparameter tuning runs.\n",
    "\n",
    "4. **method**: The method or strategy used for hyperparameter tuning. In this case, 'random' suggests that hyperparameters will be randomly chosen from the specified ranges or values during the sweep.\n",
    "\n",
    "5. **n_runs**: The number of runs or iterations that will be performed during the hyperparameter sweep. Each run involves training the model with a specific set of hyperparameters.\n",
    "\n",
    "6. **run_name**: The name given to each individual run or iteration of the experiment. It helps identify and differentiate between different runs, providing a meaningful label for tracking and analysis.\n",
    "\n",
    "7. **device**: The computational device (e.g., 'cpu', 'cuda') on which the training and evaluation of the model will be performed.\n",
    "\n",
    "8. **train_key**: Key or identifier used to access the training dataset. Refer to `get_dataset` for info about available keys.\n",
    "\n",
    "9. **val_key**: Key or identifier used to access the validation dataset. Refer to `get_dataset` for info about available keys.\n",
    "\n",
    "10. **test_key**: Key or identifier used to access the test dataset. Refer to `get_dataset` for info about available keys.\n",
    "\n",
    "11. **batch_size**: The number of samples in each mini-batch during training. It affects the efficiency of the training process and the model's ability to generalize.\n",
    "\n",
    "12. **num_workers**: The number of worker threads used to load data in parallel during training. It can help speed up the data loading process.\n",
    "\n",
    "13. **pin_memory**: A boolean indicating whether to pin memory for faster data transfer to the GPU. This is often beneficial when using a GPU for training.\n",
    "\n",
    "14. **model_key**: Key or identifier used to specify the model architecture to be used for training. Refer to `get_model` for info about available keys.\n",
    "\n",
    "15. **optimizer_key**: Key or identifier used to specify the optimizer to be used during the training process. Refer to `get_optimizer` for info about available keys.\n",
    "\n",
    "16. **learning_rate**: A list of learning rates to be used by the optimizer during training. Learning rate is a crucial hyperparameter affecting the convergence and performance of the model.\n",
    "\n",
    "17. **loss_key**: Key or identifier used to specify the loss function to be used during training. Refer to `get_loss_func` for info about available keys.\n",
    "\n",
    "18. **metric**: The metric used to evaluate the model's performance. This metric is used to compare and choose the best model in a single run. Refer to `compute_metrics` for info about available metrics.\n",
    "\n",
    "19. **epochs**: The number of epochs or complete passes through the training dataset during the training process. One epoch is a single pass through the entire training dataset."
   ]
  },
  {
   "cell_type": "code",
   "execution_count": null,
   "metadata": {},
   "outputs": [],
   "source": [
    "project = 'bird-clef-cjavelanda'\n",
    "entity = '4projects'\n",
    "\n",
    "sweep_name = 'test' \n",
    "method = 'random'\n",
    "n_runs = 1\n",
    "\n",
    "run_name = 'test3' \n",
    "device = 'cpu' \n",
    "train_key = 'train_simple' \n",
    "val_key = 'val_simple' \n",
    "test_key = 'test_simple'\n",
    "batch_size = 16\n",
    "num_workers = 2\n",
    "pin_memory = False\n",
    "model_key = 'simple_efficient_net_v2_s' \n",
    "optimizer_key = 'adamw' \n",
    "learning_rate = [0.00005] \n",
    "loss_key = 'bce'\n",
    "metric = 'f1'\n",
    "epochs = 3"
   ]
  },
  {
   "cell_type": "markdown",
   "metadata": {},
   "source": [
    "Creating the experiment configuration as dict."
   ]
  },
  {
   "cell_type": "code",
   "execution_count": null,
   "metadata": {},
   "outputs": [],
   "source": [
    "sweep_config = {\n",
    "    'name': sweep_name,\n",
    "    'method': method,\n",
    "    'parameters': {\n",
    "        'run_name': {\n",
    "            'value': run_name\n",
    "        },\n",
    "        'device': {\n",
    "            'value': device\n",
    "        },\n",
    "        'train_key': {\n",
    "            'value': train_key\n",
    "        },\n",
    "        'train_kwargs': {\n",
    "            'parameters': {\n",
    "                'batch_size': {\n",
    "                    'value': batch_size\n",
    "                },\n",
    "                'shuffle': {\n",
    "                    'value': True\n",
    "                },\n",
    "                'num_workers': {\n",
    "                    'value': num_workers \n",
    "                },\n",
    "                'pin_memory': {\n",
    "                    'value': pin_memory\n",
    "                }\n",
    "            }\n",
    "        },\n",
    "        'val_key': {\n",
    "            'value': val_key\n",
    "        },\n",
    "        'test_key': {\n",
    "            'value': test_key\n",
    "        },\n",
    "        'val_kwargs': {\n",
    "            'parameters': {\n",
    "                'batch_size': {\n",
    "                    'value': batch_size\n",
    "                },\n",
    "                'shuffle': {\n",
    "                    'value': False\n",
    "                },\n",
    "                'num_workers': {\n",
    "                    'value': num_workers \n",
    "                },\n",
    "                'pin_memory': {\n",
    "                    'value': pin_memory\n",
    "                }\n",
    "            }\n",
    "        },\n",
    "        'model_key': {\n",
    "            'value': model_key\n",
    "        },\n",
    "        'optimizer_key': {\n",
    "            'value': optimizer_key\n",
    "        },\n",
    "        'optimizer_kwargs': {\n",
    "            'parameters': {\n",
    "                'lr': {\n",
    "                    'values': learning_rate\n",
    "                },\n",
    "            }\n",
    "        },\n",
    "        'loss_key': {\n",
    "            'value': loss_key\n",
    "        },\n",
    "        'metric': {\n",
    "            'value': metric\n",
    "        },\n",
    "        'epochs': {\n",
    "            'value': epochs\n",
    "        }\n",
    "    }  \n",
    "}"
   ]
  },
  {
   "cell_type": "markdown",
   "metadata": {},
   "source": [
    "Running a sweep."
   ]
  },
  {
   "cell_type": "code",
   "execution_count": null,
   "metadata": {},
   "outputs": [
    {
     "name": "stderr",
     "output_type": "stream",
     "text": [
      "Failed to detect the name of this notebook, you can set it manually with the WANDB_NOTEBOOK_NAME environment variable to enable code saving.\n"
     ]
    },
    {
     "name": "stdout",
     "output_type": "stream",
     "text": [
      "Create sweep with ID: b0v95stj\n",
      "Sweep URL: https://wandb.ai/4projects/bird-clef-cjavelanda/sweeps/b0v95stj\n"
     ]
    },
    {
     "name": "stderr",
     "output_type": "stream",
     "text": [
      "\u001b[34m\u001b[1mwandb\u001b[0m: Agent Starting Run: mwjys6a2 with config:\n",
      "\u001b[34m\u001b[1mwandb\u001b[0m: \tdevice: cpu\n",
      "\u001b[34m\u001b[1mwandb\u001b[0m: \tepochs: 3\n",
      "\u001b[34m\u001b[1mwandb\u001b[0m: \tloss_key: bce\n",
      "\u001b[34m\u001b[1mwandb\u001b[0m: \tmetric: f1\n",
      "\u001b[34m\u001b[1mwandb\u001b[0m: \tmodel_key: simple_efficient_net_v2_s\n",
      "\u001b[34m\u001b[1mwandb\u001b[0m: \toptimizer_key: adamw\n",
      "\u001b[34m\u001b[1mwandb\u001b[0m: \toptimizer_kwargs: {'lr': 5e-05}\n",
      "\u001b[34m\u001b[1mwandb\u001b[0m: \trun_name: test3\n",
      "\u001b[34m\u001b[1mwandb\u001b[0m: \ttest_key: test_simple\n",
      "\u001b[34m\u001b[1mwandb\u001b[0m: \ttrain_key: train_simple\n",
      "\u001b[34m\u001b[1mwandb\u001b[0m: \ttrain_kwargs: {'batch_size': 16, 'num_workers': 2, 'pin_memory': False, 'shuffle': True}\n",
      "\u001b[34m\u001b[1mwandb\u001b[0m: \tval_key: val_simple\n",
      "\u001b[34m\u001b[1mwandb\u001b[0m: \tval_kwargs: {'batch_size': 16, 'num_workers': 2, 'pin_memory': False, 'shuffle': False}\n",
      "Failed to detect the name of this notebook, you can set it manually with the WANDB_NOTEBOOK_NAME environment variable to enable code saving.\n",
      "\u001b[34m\u001b[1mwandb\u001b[0m: Currently logged in as: \u001b[33mchavelanda\u001b[0m (\u001b[33m4projects\u001b[0m). Use \u001b[1m`wandb login --relogin`\u001b[0m to force relogin\n"
     ]
    },
    {
     "data": {
      "text/html": [
       "Tracking run with wandb version 0.15.12"
      ],
      "text/plain": [
       "<IPython.core.display.HTML object>"
      ]
     },
     "metadata": {},
     "output_type": "display_data"
    },
    {
     "data": {
      "text/html": [
       "Run data is saved locally in <code>c:\\Users\\giach\\OneDrive\\Documenti\\Uni\\Magistrale\\Secondo Anno\\AI in Industry\\birdclef_2023\\nbs\\wandb\\run-20231020_193314-mwjys6a2</code>"
      ],
      "text/plain": [
       "<IPython.core.display.HTML object>"
      ]
     },
     "metadata": {},
     "output_type": "display_data"
    },
    {
     "data": {
      "text/html": [
       "Syncing run <strong><a href='https://wandb.ai/4projects/bird-clef-cjavelanda/runs/mwjys6a2' target=\"_blank\">sweepy-sweep-1</a></strong> to <a href='https://wandb.ai/4projects/bird-clef-cjavelanda' target=\"_blank\">Weights & Biases</a> (<a href='https://wandb.me/run' target=\"_blank\">docs</a>)<br/>Sweep page: <a href='https://wandb.ai/4projects/bird-clef-cjavelanda/sweeps/b0v95stj' target=\"_blank\">https://wandb.ai/4projects/bird-clef-cjavelanda/sweeps/b0v95stj</a>"
      ],
      "text/plain": [
       "<IPython.core.display.HTML object>"
      ]
     },
     "metadata": {},
     "output_type": "display_data"
    },
    {
     "data": {
      "text/html": [
       " View project at <a href='https://wandb.ai/4projects/bird-clef-cjavelanda' target=\"_blank\">https://wandb.ai/4projects/bird-clef-cjavelanda</a>"
      ],
      "text/plain": [
       "<IPython.core.display.HTML object>"
      ]
     },
     "metadata": {},
     "output_type": "display_data"
    },
    {
     "data": {
      "text/html": [
       " View sweep at <a href='https://wandb.ai/4projects/bird-clef-cjavelanda/sweeps/b0v95stj' target=\"_blank\">https://wandb.ai/4projects/bird-clef-cjavelanda/sweeps/b0v95stj</a>"
      ],
      "text/plain": [
       "<IPython.core.display.HTML object>"
      ]
     },
     "metadata": {},
     "output_type": "display_data"
    },
    {
     "data": {
      "text/html": [
       " View run at <a href='https://wandb.ai/4projects/bird-clef-cjavelanda/runs/mwjys6a2' target=\"_blank\">https://wandb.ai/4projects/bird-clef-cjavelanda/runs/mwjys6a2</a>"
      ],
      "text/plain": [
       "<IPython.core.display.HTML object>"
      ]
     },
     "metadata": {},
     "output_type": "display_data"
    },
    {
     "name": "stdout",
     "output_type": "stream",
     "text": [
      "Training epoch 0\n"
     ]
    },
    {
     "name": "stderr",
     "output_type": "stream",
     "text": [
      "100%|██████████| 53/53 [14:47<00:00, 16.74s/it]\n"
     ]
    },
    {
     "name": "stdout",
     "output_type": "stream",
     "text": [
      "\tFinished training. Starting validation\n"
     ]
    },
    {
     "name": "stderr",
     "output_type": "stream",
     "text": [
      "100%|██████████| 21/21 [03:27<00:00,  9.89s/it]\n"
     ]
    },
    {
     "name": "stdout",
     "output_type": "stream",
     "text": [
      "\tFinshed validation\n",
      "\tMetrics logged to wandb\n",
      "\tf1 in the validation set has improved!\n",
      "Training epoch 1\n"
     ]
    },
    {
     "name": "stderr",
     "output_type": "stream",
     "text": [
      "100%|██████████| 53/53 [18:48<00:00, 21.28s/it] \n"
     ]
    },
    {
     "name": "stdout",
     "output_type": "stream",
     "text": [
      "\tFinished training. Starting validation\n"
     ]
    },
    {
     "name": "stderr",
     "output_type": "stream",
     "text": [
      "100%|██████████| 21/21 [02:28<00:00,  7.08s/it]\n"
     ]
    },
    {
     "name": "stdout",
     "output_type": "stream",
     "text": [
      "\tFinshed validation\n",
      "\tMetrics logged to wandb\n",
      "\tf1 in the validation set has improved!\n",
      "Training epoch 2\n"
     ]
    },
    {
     "name": "stderr",
     "output_type": "stream",
     "text": [
      "100%|██████████| 53/53 [16:13<00:00, 18.36s/it]\n"
     ]
    },
    {
     "name": "stdout",
     "output_type": "stream",
     "text": [
      "\tFinished training. Starting validation\n"
     ]
    },
    {
     "name": "stderr",
     "output_type": "stream",
     "text": [
      "100%|██████████| 21/21 [01:34<00:00,  4.50s/it]\n"
     ]
    },
    {
     "name": "stdout",
     "output_type": "stream",
     "text": [
      "\tFinshed validation\n",
      "\tMetrics logged to wandb\n",
      "\tf1 in the validation set has improved!\n",
      "\tTesting with best model\n"
     ]
    },
    {
     "name": "stderr",
     "output_type": "stream",
     "text": [
      "100%|██████████| 21/21 [01:26<00:00,  4.12s/it]\n"
     ]
    },
    {
     "data": {
      "text/html": [
       "Waiting for W&B process to finish... <strong style=\"color:green\">(success).</strong>"
      ],
      "text/plain": [
       "<IPython.core.display.HTML object>"
      ]
     },
     "metadata": {},
     "output_type": "display_data"
    },
    {
     "data": {
      "text/html": [
       "<style>\n",
       "    table.wandb td:nth-child(1) { padding: 0 10px; text-align: left ; width: auto;} td:nth-child(2) {text-align: left ; width: 100%}\n",
       "    .wandb-row { display: flex; flex-direction: row; flex-wrap: wrap; justify-content: flex-start; width: 100% }\n",
       "    .wandb-col { display: flex; flex-direction: column; flex-basis: 100%; flex: 1; padding: 10px; }\n",
       "    </style>\n",
       "<div class=\"wandb-row\"><div class=\"wandb-col\"><h3>Run history:</h3><br/><table class=\"wandb\"><tr><td>train/accuracy</td><td>▁▃▅▄▃▅▂▄▄▄▂▃▄▃▅▅▄▁▅▃▅▃▄▁▂▄▄▂▃▄▃▄█▂▅▄▄▅▅▂</td></tr><tr><td>train/epoch</td><td>▁▁▁▂▂▂▂▂▂▃▃▃▃▃▄▄▄▄▄▄▅▅▅▅▅▅▆▆▆▆▆▇▇▇▇▇▇███</td></tr><tr><td>train/example_ct</td><td>▁▁▁▂▂▂▂▂▂▃▃▃▃▃▄▄▄▄▄▄▅▅▅▅▅▅▆▆▆▆▆▇▇▇▇▇▇███</td></tr><tr><td>train/f1</td><td>▁▂▅▃▂▅▂▄▃▄▂▂▄▃▅▆▄▁▆▃▆▃▅▁▁▄▄▂▄▅▃▄█▃▄▄▄▅▅▃</td></tr><tr><td>train/loss</td><td>▄▃▇▅▅▃▆▃▆▂▆▆▃▄▆▂▃▇▂█▆▇▃▆▆▃▄▇▅▂▅▃▁▃▅▅▃▃▃▃</td></tr><tr><td>train/precision</td><td>▂▂▅▃▅▇▂▄▃▄▅▂▅▃▅▆▄▁▇▂▅▄▅▁▁█▄▃▅▆▃▃█▅▄▅▄▆▅▃</td></tr><tr><td>train/recall</td><td>▁▃▅▄▃▅▂▄▄▄▂▃▄▃▅▅▄▁▅▃▅▃▄▁▂▄▄▂▃▄▃▄█▂▅▄▄▅▅▂</td></tr><tr><td>train/step_ct</td><td>▁▁▁▂▂▂▂▂▂▃▃▃▃▃▄▄▄▄▄▄▅▅▅▅▅▅▆▆▆▆▆▇▇▇▇▇▇███</td></tr><tr><td>val/accuracy</td><td>▁▃█</td></tr><tr><td>val/epoch</td><td>▁▅█</td></tr><tr><td>val/example_ct</td><td>▁▅█</td></tr><tr><td>val/f1</td><td>▁▅█</td></tr><tr><td>val/loss</td><td>▁▇█</td></tr><tr><td>val/precision</td><td>▁▆█</td></tr><tr><td>val/recall</td><td>▁▃█</td></tr><tr><td>val/step_ct</td><td>▁▅█</td></tr></table><br/></div><div class=\"wandb-col\"><h3>Run summary:</h3><br/><table class=\"wandb\"><tr><td>test/accuracy</td><td>0.39752</td></tr><tr><td>test/epoch</td><td>2</td></tr><tr><td>test/example_ct</td><td>2544</td></tr><tr><td>test/f1</td><td>0.37305</td></tr><tr><td>test/loss</td><td>6.41824</td></tr><tr><td>test/precision</td><td>0.46473</td></tr><tr><td>test/recall</td><td>0.39752</td></tr><tr><td>test/step_ct</td><td>159</td></tr><tr><td>train/accuracy</td><td>0.3125</td></tr><tr><td>train/epoch</td><td>3.0</td></tr><tr><td>train/example_ct</td><td>2544</td></tr><tr><td>train/f1</td><td>0.28674</td></tr><tr><td>train/loss</td><td>0.8378</td></tr><tr><td>train/precision</td><td>0.2808</td></tr><tr><td>train/recall</td><td>0.3125</td></tr><tr><td>train/step_ct</td><td>158</td></tr><tr><td>val/accuracy</td><td>0.39394</td></tr><tr><td>val/epoch</td><td>3</td></tr><tr><td>val/example_ct</td><td>2544</td></tr><tr><td>val/f1</td><td>0.36766</td></tr><tr><td>val/loss</td><td>1.49173</td></tr><tr><td>val/precision</td><td>0.44329</td></tr><tr><td>val/recall</td><td>0.39394</td></tr><tr><td>val/step_ct</td><td>159</td></tr></table><br/></div></div>"
      ],
      "text/plain": [
       "<IPython.core.display.HTML object>"
      ]
     },
     "metadata": {},
     "output_type": "display_data"
    },
    {
     "data": {
      "text/html": [
       " View run <strong style=\"color:#cdcd00\">sweepy-sweep-1</strong> at: <a href='https://wandb.ai/4projects/bird-clef-cjavelanda/runs/mwjys6a2' target=\"_blank\">https://wandb.ai/4projects/bird-clef-cjavelanda/runs/mwjys6a2</a><br/>Synced 6 W&B file(s), 0 media file(s), 3 artifact file(s) and 0 other file(s)"
      ],
      "text/plain": [
       "<IPython.core.display.HTML object>"
      ]
     },
     "metadata": {},
     "output_type": "display_data"
    },
    {
     "data": {
      "text/html": [
       "Find logs at: <code>.\\wandb\\run-20231020_193314-mwjys6a2\\logs</code>"
      ],
      "text/plain": [
       "<IPython.core.display.HTML object>"
      ]
     },
     "metadata": {},
     "output_type": "display_data"
    }
   ],
   "source": [
    "#|eval: false\n",
    "#|output: false\n",
    "sweep_id = wandb.sweep(sweep_config, project=project, entity=entity)\n",
    "wandb.agent(\n",
    "    sweep_id,\n",
    "    train,\n",
    "    count=n_runs)"
   ]
  },
  {
   "cell_type": "code",
   "execution_count": null,
   "metadata": {},
   "outputs": [],
   "source": [
    "#| hide\n",
    "import nbdev; nbdev.nbdev_export()"
   ]
  }
 ],
 "metadata": {
  "kernelspec": {
   "display_name": "python3",
   "language": "python",
   "name": "python3"
  }
 },
 "nbformat": 4,
 "nbformat_minor": 4
}
