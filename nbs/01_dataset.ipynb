{
 "cells": [
  {
   "cell_type": "markdown",
   "metadata": {},
   "source": [
    "# dataset\n",
    "\n",
    "> This module provides a dataset manager that is used to get a pytorch dataset or to add new ones. It also contains the dataset of the CAT scans."
   ]
  },
  {
   "cell_type": "code",
   "execution_count": null,
   "metadata": {},
   "outputs": [],
   "source": [
    "#| default_exp dataset"
   ]
  },
  {
   "cell_type": "code",
   "execution_count": null,
   "metadata": {},
   "outputs": [],
   "source": [
    "#| hide\n",
    "from nbdev.showdoc import *\n",
    "from fastcore.test import *\n",
    "from fastcore.utils import *"
   ]
  },
  {
   "cell_type": "code",
   "execution_count": null,
   "metadata": {},
   "outputs": [],
   "source": [
    "#| export\n",
    "from torch.utils.data import Dataset, DataLoader"
   ]
  },
  {
   "cell_type": "markdown",
   "metadata": {},
   "source": [
    "## Pytorch dataset of CAT scans"
   ]
  },
  {
   "cell_type": "code",
   "execution_count": null,
   "metadata": {},
   "outputs": [],
   "source": [
    "#| export\n",
    "class CATDataset(Dataset):\n",
    "    \"Pytorch dataset to handle CAT scans data\"\n",
    "    \n",
    "    def __init__(self):\n",
    "        pass\n",
    "\n",
    "    def __len__(self):\n",
    "        return 0\n",
    "\n",
    "    def __getitem__(self, idx):\n",
    "        pass"
   ]
  },
  {
   "cell_type": "code",
   "execution_count": null,
   "metadata": {},
   "outputs": [
    {
     "name": "stdout",
     "output_type": "stream",
     "text": [
      "The dataset has length 0\n",
      "This is an example from the dataset:\n",
      "None\n"
     ]
    }
   ],
   "source": [
    "ds_test = CATDataset()\n",
    "print(f'The dataset has length {len(ds_test)}')\n",
    "print(f'This is an example from the dataset:\\n{ds_test.__getitem__(0)}')"
   ]
  },
  {
   "cell_type": "markdown",
   "metadata": {},
   "source": [
    "## Handling datasets and dataloaders"
   ]
  },
  {
   "cell_type": "markdown",
   "metadata": {},
   "source": [
    "After creating the `CATDataset` we need to handle the different versions of the dataset using a dictionary and a getter function. Since pytorch trains models using dataloaders we also need to create a method to rtrieve them."
   ]
  },
  {
   "cell_type": "code",
   "execution_count": null,
   "metadata": {},
   "outputs": [],
   "source": [
    "#| export\n",
    "dataset_dict = {\n",
    "            \n",
    "        }\n",
    "\n",
    "def get_dataset(dataset_key:str        # A key of the dataset dictionary\n",
    "                )->Dataset:         # Pytorch dataset\n",
    "    \"A getter method to retrieve the wanted dataset.\"\n",
    "    assert dataset_key in dataset_dict, f'{dataset_key} is not an existing dataset, choose one from {dataset_dict.keys()}.'\n",
    "    ds_class, kwargs = dataset_dict[dataset_key]\n",
    "    return ds_class(**kwargs)"
   ]
  },
  {
   "cell_type": "code",
   "execution_count": null,
   "metadata": {},
   "outputs": [
    {
     "name": "stdout",
     "output_type": "stream",
     "text": [
      "The existing keys are:\n",
      "\n"
     ]
    }
   ],
   "source": [
    "#|echo: false\n",
    "print(\"The existing keys are:\\n\" + \"\\n\".join([k for k in dataset_dict.keys()]))\n",
    "\n",
    "test_eq(dataset_dict.keys(), [])"
   ]
  },
  {
   "cell_type": "markdown",
   "metadata": {},
   "source": [
    "Add example of getting CATDataset"
   ]
  },
  {
   "cell_type": "code",
   "execution_count": null,
   "metadata": {},
   "outputs": [],
   "source": [
    "pass"
   ]
  },
  {
   "cell_type": "code",
   "execution_count": null,
   "metadata": {},
   "outputs": [],
   "source": [
    "#| export\n",
    "def get_dataloader(dataset_key:str,            # The key to access the dataset\n",
    "                dataloader_kwargs:dict      # The optional parameters for a pytorch dataloader\n",
    "                )->DataLoader:              # Pytorch dataloader\n",
    "    \"A function to get a dataloader from a specific dataset\"\n",
    "    dataset = get_dataset(dataset_key)\n",
    "\n",
    "    return DataLoader(dataset, **dataloader_kwargs)"
   ]
  },
  {
   "cell_type": "markdown",
   "metadata": {},
   "source": [
    "An example of getting a dataloader"
   ]
  },
  {
   "cell_type": "code",
   "execution_count": null,
   "metadata": {},
   "outputs": [],
   "source": [
    "pass"
   ]
  },
  {
   "cell_type": "code",
   "execution_count": null,
   "metadata": {},
   "outputs": [],
   "source": [
    "#| hide\n",
    "import nbdev; nbdev.nbdev_export()"
   ]
  }
 ],
 "metadata": {
  "kernelspec": {
   "display_name": "python3",
   "language": "python",
   "name": "python3"
  }
 },
 "nbformat": 4,
 "nbformat_minor": 4
}
