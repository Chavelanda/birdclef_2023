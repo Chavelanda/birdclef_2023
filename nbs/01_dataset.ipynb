{
 "cells": [
  {
   "cell_type": "markdown",
   "metadata": {},
   "source": [
    "# dataset\n",
    "\n",
    "> This module provides a dataset manager that is used to get a pytorch dataset or to add new ones. It also contains the dataset of the CAT scans."
   ]
  },
  {
   "cell_type": "code",
   "execution_count": null,
   "metadata": {},
   "outputs": [],
   "source": [
    "#| default_exp dataset"
   ]
  },
  {
   "cell_type": "code",
   "execution_count": null,
   "metadata": {},
   "outputs": [],
   "source": [
    "#| hide\n",
    "from nbdev.showdoc import *\n",
    "from fastcore.test import *\n",
    "from fastcore.utils import *"
   ]
  },
  {
   "cell_type": "code",
   "execution_count": null,
   "metadata": {},
   "outputs": [],
   "source": [
    "#| export\n",
    "from torch.utils.data import Dataset"
   ]
  },
  {
   "cell_type": "markdown",
   "metadata": {},
   "source": [
    "## Pytorch dataset of CAT scans"
   ]
  },
  {
   "cell_type": "code",
   "execution_count": null,
   "metadata": {},
   "outputs": [],
   "source": [
    "#| export\n",
    "class CATDataset(Dataset):\n",
    "    \"Pytorch dataset to handle CAT scans data\"\n",
    "    \n",
    "    def __init__(self):\n",
    "        pass\n",
    "\n",
    "    def __len__(self):\n",
    "        pass\n",
    "\n",
    "    def __getitem__(self):\n",
    "        pass"
   ]
  },
  {
   "cell_type": "markdown",
   "metadata": {},
   "source": [
    "## The dataset manager class"
   ]
  },
  {
   "cell_type": "markdown",
   "metadata": {},
   "source": [
    "After creating the `CATDataset` we need to create a manager class that will enable us to retrieve specific instances of that dataset and possibly add new ones."
   ]
  },
  {
   "cell_type": "code",
   "execution_count": null,
   "metadata": {},
   "outputs": [],
   "source": [
    "#| export\n",
    "class DatasetManager:\n",
    "    \"Manage your datasets through a dictionary containing pytorch dataset classes and their kwargs.\"\n",
    "\n",
    "    def __init__(self) -> None:\n",
    "        self.dataset_dict = {\n",
    "            \n",
    "        }"
   ]
  },
  {
   "cell_type": "markdown",
   "metadata": {},
   "source": [
    "A `DatasetManager` instance already contains the reference to the `CATDataset`. It does it in two flavours: one complete version; one small dataset for testing purposes. "
   ]
  },
  {
   "cell_type": "code",
   "execution_count": null,
   "metadata": {},
   "outputs": [
    {
     "name": "stdout",
     "output_type": "stream",
     "text": [
      "The existing keys are:\n",
      "\n"
     ]
    }
   ],
   "source": [
    "#|echo: false\n",
    "manager = DatasetManager()\n",
    "print(\"The existing keys are:\\n\" + \"\\n\".join([k for k in manager.dataset_dict.keys()]))\n",
    "\n",
    "test_eq(manager.dataset_dict.keys(), [])"
   ]
  },
  {
   "cell_type": "markdown",
   "metadata": {},
   "source": [
    "Expand the handled datasets either by adding them to an instance of the `DatasetManager` via the `add_dataset` method or by inheriting the class and extending the dataset dictionary. "
   ]
  },
  {
   "cell_type": "code",
   "execution_count": null,
   "metadata": {},
   "outputs": [],
   "source": [
    "#| export\n",
    "@patch\n",
    "def get_dataset(self:DatasetManager,\n",
    "                 dataset:str): # A key of the dataset dictionary\n",
    "    \"A getter method to retrieve the wanted dataset.\"\n",
    "    assert dataset in self.dataset_dict.keys(), f'{dataset} is not an existing dataset, choose one from {self.dataset_dict.keys()}.'\n",
    "    ds_class, kwargs = self.dataset_dict[dataset]\n",
    "    return ds_class(**kwargs)"
   ]
  },
  {
   "cell_type": "markdown",
   "metadata": {},
   "source": [
    "Add example of getting CATDataset"
   ]
  },
  {
   "cell_type": "code",
   "execution_count": null,
   "metadata": {},
   "outputs": [],
   "source": [
    "pass"
   ]
  },
  {
   "cell_type": "code",
   "execution_count": null,
   "metadata": {},
   "outputs": [],
   "source": [
    "#| export\n",
    "@patch\n",
    "def add_dataset(self:DatasetManager,\n",
    "                dataset_key:str,        # The key to access the dataset\n",
    "                dataset_class:Dataset,  # The class of the pytorch dataset \n",
    "                dataset_kwargs:dict):     # The parameters needed to instanciate the dataset\n",
    "    \"In order to use a different dataset it is possible to add it to the manager.\"\n",
    "    self.dataset_dict[dataset_key] = (dataset_class, dataset_kwargs)"
   ]
  },
  {
   "cell_type": "code",
   "execution_count": null,
   "metadata": {},
   "outputs": [],
   "source": [
    "#| hide\n",
    "import nbdev; nbdev.nbdev_export()"
   ]
  }
 ],
 "metadata": {
  "kernelspec": {
   "display_name": "python3",
   "language": "python",
   "name": "python3"
  }
 },
 "nbformat": 4,
 "nbformat_minor": 2
}
